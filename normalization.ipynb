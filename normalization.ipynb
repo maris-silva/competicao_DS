{
 "cells": [
  {
   "cell_type": "markdown",
   "metadata": {},
   "source": [
    "### Imports"
   ]
  },
  {
   "cell_type": "code",
   "execution_count": 1,
   "metadata": {},
   "outputs": [],
   "source": [
    "import pandas as pd\n",
    "import numpy as np \n",
    "import seaborn as sns\n",
    "import matplotlib.pyplot as plt"
   ]
  },
  {
   "cell_type": "markdown",
   "metadata": {},
   "source": [
    "### Importando dataset"
   ]
  },
  {
   "cell_type": "code",
   "execution_count": 5,
   "metadata": {},
   "outputs": [],
   "source": [
    "original_df = pd.read_csv('train.csv')\n",
    "df = pd.read_csv('train_cleaned_manual.csv')"
   ]
  },
  {
   "cell_type": "code",
   "execution_count": 7,
   "metadata": {},
   "outputs": [],
   "source": [
    "original_df.drop(['Id'], inplace=True, axis=1)"
   ]
  },
  {
   "cell_type": "code",
   "execution_count": 9,
   "metadata": {},
   "outputs": [
    {
     "name": "stdout",
     "output_type": "stream",
     "text": [
      "<class 'pandas.core.frame.DataFrame'>\n",
      "RangeIndex: 1460 entries, 0 to 1459\n",
      "Data columns (total 80 columns):\n",
      " #   Column         Non-Null Count  Dtype  \n",
      "---  ------         --------------  -----  \n",
      " 0   MSSubClass     1460 non-null   int64  \n",
      " 1   MSZoning       1460 non-null   object \n",
      " 2   LotFrontage    1201 non-null   float64\n",
      " 3   LotArea        1460 non-null   int64  \n",
      " 4   Street         1460 non-null   object \n",
      " 5   Alley          91 non-null     object \n",
      " 6   LotShape       1460 non-null   object \n",
      " 7   LandContour    1460 non-null   object \n",
      " 8   Utilities      1460 non-null   object \n",
      " 9   LotConfig      1460 non-null   object \n",
      " 10  LandSlope      1460 non-null   object \n",
      " 11  Neighborhood   1460 non-null   object \n",
      " 12  Condition1     1460 non-null   object \n",
      " 13  Condition2     1460 non-null   object \n",
      " 14  BldgType       1460 non-null   object \n",
      " 15  HouseStyle     1460 non-null   object \n",
      " 16  OverallQual    1460 non-null   int64  \n",
      " 17  OverallCond    1460 non-null   int64  \n",
      " 18  YearBuilt      1460 non-null   int64  \n",
      " 19  YearRemodAdd   1460 non-null   int64  \n",
      " 20  RoofStyle      1460 non-null   object \n",
      " 21  RoofMatl       1460 non-null   object \n",
      " 22  Exterior1st    1460 non-null   object \n",
      " 23  Exterior2nd    1460 non-null   object \n",
      " 24  MasVnrType     588 non-null    object \n",
      " 25  MasVnrArea     1452 non-null   float64\n",
      " 26  ExterQual      1460 non-null   object \n",
      " 27  ExterCond      1460 non-null   object \n",
      " 28  Foundation     1460 non-null   object \n",
      " 29  BsmtQual       1423 non-null   object \n",
      " 30  BsmtCond       1423 non-null   object \n",
      " 31  BsmtExposure   1422 non-null   object \n",
      " 32  BsmtFinType1   1423 non-null   object \n",
      " 33  BsmtFinSF1     1460 non-null   int64  \n",
      " 34  BsmtFinType2   1422 non-null   object \n",
      " 35  BsmtFinSF2     1460 non-null   int64  \n",
      " 36  BsmtUnfSF      1460 non-null   int64  \n",
      " 37  TotalBsmtSF    1460 non-null   int64  \n",
      " 38  Heating        1460 non-null   object \n",
      " 39  HeatingQC      1460 non-null   object \n",
      " 40  CentralAir     1460 non-null   object \n",
      " 41  Electrical     1459 non-null   object \n",
      " 42  1stFlrSF       1460 non-null   int64  \n",
      " 43  2ndFlrSF       1460 non-null   int64  \n",
      " 44  LowQualFinSF   1460 non-null   int64  \n",
      " 45  GrLivArea      1460 non-null   int64  \n",
      " 46  BsmtFullBath   1460 non-null   int64  \n",
      " 47  BsmtHalfBath   1460 non-null   int64  \n",
      " 48  FullBath       1460 non-null   int64  \n",
      " 49  HalfBath       1460 non-null   int64  \n",
      " 50  BedroomAbvGr   1460 non-null   int64  \n",
      " 51  KitchenAbvGr   1460 non-null   int64  \n",
      " 52  KitchenQual    1460 non-null   object \n",
      " 53  TotRmsAbvGrd   1460 non-null   int64  \n",
      " 54  Functional     1460 non-null   object \n",
      " 55  Fireplaces     1460 non-null   int64  \n",
      " 56  FireplaceQu    770 non-null    object \n",
      " 57  GarageType     1379 non-null   object \n",
      " 58  GarageYrBlt    1379 non-null   float64\n",
      " 59  GarageFinish   1379 non-null   object \n",
      " 60  GarageCars     1460 non-null   int64  \n",
      " 61  GarageArea     1460 non-null   int64  \n",
      " 62  GarageQual     1379 non-null   object \n",
      " 63  GarageCond     1379 non-null   object \n",
      " 64  PavedDrive     1460 non-null   object \n",
      " 65  WoodDeckSF     1460 non-null   int64  \n",
      " 66  OpenPorchSF    1460 non-null   int64  \n",
      " 67  EnclosedPorch  1460 non-null   int64  \n",
      " 68  3SsnPorch      1460 non-null   int64  \n",
      " 69  ScreenPorch    1460 non-null   int64  \n",
      " 70  PoolArea       1460 non-null   int64  \n",
      " 71  PoolQC         7 non-null      object \n",
      " 72  Fence          281 non-null    object \n",
      " 73  MiscFeature    54 non-null     object \n",
      " 74  MiscVal        1460 non-null   int64  \n",
      " 75  MoSold         1460 non-null   int64  \n",
      " 76  YrSold         1460 non-null   int64  \n",
      " 77  SaleType       1460 non-null   object \n",
      " 78  SaleCondition  1460 non-null   object \n",
      " 79  SalePrice      1460 non-null   int64  \n",
      "dtypes: float64(3), int64(34), object(43)\n",
      "memory usage: 912.6+ KB\n"
     ]
    }
   ],
   "source": [
    "original_df.info()"
   ]
  },
  {
   "cell_type": "markdown",
   "metadata": {},
   "source": [
    "### Normalizando features numéricas"
   ]
  },
  {
   "cell_type": "code",
   "execution_count": 15,
   "metadata": {},
   "outputs": [],
   "source": [
    "num_cols = original_df.select_dtypes(include=[np.number]).columns"
   ]
  },
  {
   "cell_type": "markdown",
   "metadata": {},
   "source": [
    "Os dados categóricos que já foram convertidos já obedecem normalização, então não precisamos nos preocupar com eles."
   ]
  },
  {
   "cell_type": "code",
   "execution_count": 16,
   "metadata": {},
   "outputs": [
    {
     "data": {
      "text/html": [
       "<div>\n",
       "<style scoped>\n",
       "    .dataframe tbody tr th:only-of-type {\n",
       "        vertical-align: middle;\n",
       "    }\n",
       "\n",
       "    .dataframe tbody tr th {\n",
       "        vertical-align: top;\n",
       "    }\n",
       "\n",
       "    .dataframe thead th {\n",
       "        text-align: right;\n",
       "    }\n",
       "</style>\n",
       "<table border=\"1\" class=\"dataframe\">\n",
       "  <thead>\n",
       "    <tr style=\"text-align: right;\">\n",
       "      <th></th>\n",
       "      <th>count</th>\n",
       "      <th>mean</th>\n",
       "      <th>std</th>\n",
       "      <th>min</th>\n",
       "      <th>25%</th>\n",
       "      <th>50%</th>\n",
       "      <th>75%</th>\n",
       "      <th>max</th>\n",
       "    </tr>\n",
       "  </thead>\n",
       "  <tbody>\n",
       "    <tr>\n",
       "      <th>MSSubClass</th>\n",
       "      <td>1460.0</td>\n",
       "      <td>53.218310</td>\n",
       "      <td>36.166475</td>\n",
       "      <td>20.0</td>\n",
       "      <td>20.0</td>\n",
       "      <td>50.000000</td>\n",
       "      <td>60.0</td>\n",
       "      <td>160.0</td>\n",
       "    </tr>\n",
       "    <tr>\n",
       "      <th>LotFrontage</th>\n",
       "      <td>1460.0</td>\n",
       "      <td>68.643038</td>\n",
       "      <td>18.227825</td>\n",
       "      <td>21.0</td>\n",
       "      <td>60.0</td>\n",
       "      <td>68.643038</td>\n",
       "      <td>78.0</td>\n",
       "      <td>134.0</td>\n",
       "    </tr>\n",
       "    <tr>\n",
       "      <th>LotArea</th>\n",
       "      <td>1460.0</td>\n",
       "      <td>9776.588927</td>\n",
       "      <td>4217.010088</td>\n",
       "      <td>1300.0</td>\n",
       "      <td>7553.5</td>\n",
       "      <td>9478.500000</td>\n",
       "      <td>11437.0</td>\n",
       "      <td>36500.0</td>\n",
       "    </tr>\n",
       "    <tr>\n",
       "      <th>OverallQual</th>\n",
       "      <td>1460.0</td>\n",
       "      <td>6.066110</td>\n",
       "      <td>1.285955</td>\n",
       "      <td>3.0</td>\n",
       "      <td>5.0</td>\n",
       "      <td>6.000000</td>\n",
       "      <td>7.0</td>\n",
       "      <td>9.0</td>\n",
       "    </tr>\n",
       "    <tr>\n",
       "      <th>OverallCond</th>\n",
       "      <td>1460.0</td>\n",
       "      <td>5.538408</td>\n",
       "      <td>1.000989</td>\n",
       "      <td>3.0</td>\n",
       "      <td>5.0</td>\n",
       "      <td>5.000000</td>\n",
       "      <td>6.0</td>\n",
       "      <td>8.0</td>\n",
       "    </tr>\n",
       "    <tr>\n",
       "      <th>...</th>\n",
       "      <td>...</td>\n",
       "      <td>...</td>\n",
       "      <td>...</td>\n",
       "      <td>...</td>\n",
       "      <td>...</td>\n",
       "      <td>...</td>\n",
       "      <td>...</td>\n",
       "      <td>...</td>\n",
       "    </tr>\n",
       "    <tr>\n",
       "      <th>SaleType_WD</th>\n",
       "      <td>1460.0</td>\n",
       "      <td>0.867808</td>\n",
       "      <td>0.338815</td>\n",
       "      <td>0.0</td>\n",
       "      <td>1.0</td>\n",
       "      <td>1.000000</td>\n",
       "      <td>1.0</td>\n",
       "      <td>1.0</td>\n",
       "    </tr>\n",
       "    <tr>\n",
       "      <th>SaleCondition_Abnorml</th>\n",
       "      <td>1460.0</td>\n",
       "      <td>0.069178</td>\n",
       "      <td>0.253844</td>\n",
       "      <td>0.0</td>\n",
       "      <td>0.0</td>\n",
       "      <td>0.000000</td>\n",
       "      <td>0.0</td>\n",
       "      <td>1.0</td>\n",
       "    </tr>\n",
       "    <tr>\n",
       "      <th>SaleCondition_Normal</th>\n",
       "      <td>1460.0</td>\n",
       "      <td>0.820548</td>\n",
       "      <td>0.383862</td>\n",
       "      <td>0.0</td>\n",
       "      <td>1.0</td>\n",
       "      <td>1.000000</td>\n",
       "      <td>1.0</td>\n",
       "      <td>1.0</td>\n",
       "    </tr>\n",
       "    <tr>\n",
       "      <th>SaleCondition_Oth</th>\n",
       "      <td>1460.0</td>\n",
       "      <td>0.024658</td>\n",
       "      <td>0.155132</td>\n",
       "      <td>0.0</td>\n",
       "      <td>0.0</td>\n",
       "      <td>0.000000</td>\n",
       "      <td>0.0</td>\n",
       "      <td>1.0</td>\n",
       "    </tr>\n",
       "    <tr>\n",
       "      <th>SaleCondition_Partial</th>\n",
       "      <td>1460.0</td>\n",
       "      <td>0.085616</td>\n",
       "      <td>0.279893</td>\n",
       "      <td>0.0</td>\n",
       "      <td>0.0</td>\n",
       "      <td>0.000000</td>\n",
       "      <td>0.0</td>\n",
       "      <td>1.0</td>\n",
       "    </tr>\n",
       "  </tbody>\n",
       "</table>\n",
       "<p>256 rows × 8 columns</p>\n",
       "</div>"
      ],
      "text/plain": [
       "                        count         mean          std     min     25%  \\\n",
       "MSSubClass             1460.0    53.218310    36.166475    20.0    20.0   \n",
       "LotFrontage            1460.0    68.643038    18.227825    21.0    60.0   \n",
       "LotArea                1460.0  9776.588927  4217.010088  1300.0  7553.5   \n",
       "OverallQual            1460.0     6.066110     1.285955     3.0     5.0   \n",
       "OverallCond            1460.0     5.538408     1.000989     3.0     5.0   \n",
       "...                       ...          ...          ...     ...     ...   \n",
       "SaleType_WD            1460.0     0.867808     0.338815     0.0     1.0   \n",
       "SaleCondition_Abnorml  1460.0     0.069178     0.253844     0.0     0.0   \n",
       "SaleCondition_Normal   1460.0     0.820548     0.383862     0.0     1.0   \n",
       "SaleCondition_Oth      1460.0     0.024658     0.155132     0.0     0.0   \n",
       "SaleCondition_Partial  1460.0     0.085616     0.279893     0.0     0.0   \n",
       "\n",
       "                               50%      75%      max  \n",
       "MSSubClass               50.000000     60.0    160.0  \n",
       "LotFrontage              68.643038     78.0    134.0  \n",
       "LotArea                9478.500000  11437.0  36500.0  \n",
       "OverallQual               6.000000      7.0      9.0  \n",
       "OverallCond               5.000000      6.0      8.0  \n",
       "...                            ...      ...      ...  \n",
       "SaleType_WD               1.000000      1.0      1.0  \n",
       "SaleCondition_Abnorml     0.000000      0.0      1.0  \n",
       "SaleCondition_Normal      1.000000      1.0      1.0  \n",
       "SaleCondition_Oth         0.000000      0.0      1.0  \n",
       "SaleCondition_Partial     0.000000      0.0      1.0  \n",
       "\n",
       "[256 rows x 8 columns]"
      ]
     },
     "execution_count": 16,
     "metadata": {},
     "output_type": "execute_result"
    }
   ],
   "source": [
    "df.describe().T"
   ]
  },
  {
   "cell_type": "markdown",
   "metadata": {},
   "source": [
    "## Estandarizando os dados"
   ]
  },
  {
   "cell_type": "code",
   "execution_count": 17,
   "metadata": {},
   "outputs": [],
   "source": [
    "from sklearn.preprocessing import StandardScaler"
   ]
  },
  {
   "cell_type": "code",
   "execution_count": 18,
   "metadata": {},
   "outputs": [],
   "source": [
    "scaler = StandardScaler()\n",
    "df_scaled = scaler.fit_transform(df[num_cols])"
   ]
  },
  {
   "cell_type": "code",
   "execution_count": 20,
   "metadata": {},
   "outputs": [
    {
     "name": "stdout",
     "output_type": "stream",
     "text": [
      "[-1.80069049e-16 -1.10718132e-15  3.23637616e-16  6.42408501e-16\n",
      "  7.93277164e-16 -2.15839523e-15  4.49685951e-15  7.05676005e-17\n",
      " -6.08341383e-17  1.70335587e-17 -4.86673107e-17  2.55503381e-16\n",
      "  3.92988534e-16  6.08341383e-18 -4.86673107e-18 -9.76996262e-16\n",
      " -3.89338485e-17  0.00000000e+00 -5.37773783e-16 -1.41743542e-16\n",
      " -8.76011592e-17  0.00000000e+00  9.79429627e-17 -1.16801546e-16\n",
      "  9.79003788e-15  7.90843798e-17  1.14368180e-16  1.94669243e-17\n",
      "  3.77171658e-17  3.16337519e-17 -3.16337519e-17 -1.46001932e-17\n",
      "  0.00000000e+00 -4.62339451e-17  7.54343315e-17  3.56743554e-14\n",
      "  2.19002898e-17]\n",
      "[1. 1. 1. 1. 1. 1. 1. 1. 1. 1. 1. 1. 1. 1. 1. 1. 1. 0. 1. 1. 1. 0. 1. 1.\n",
      " 1. 1. 1. 1. 1. 1. 1. 1. 0. 1. 1. 1. 1.]\n"
     ]
    }
   ],
   "source": [
    "print(df_scaled.mean(axis=0))\n",
    "print(df_scaled.std(axis=0))\n"
   ]
  },
  {
   "cell_type": "code",
   "execution_count": 22,
   "metadata": {},
   "outputs": [
    {
     "name": "stdout",
     "output_type": "stream",
     "text": [
      "Min values (Numerical features):  [-0.91879819 -2.6146489  -2.01078328 -2.38512273 -2.53676851 -2.7910231\n",
      " -1.6893685  -0.64055264 -1.02866187 -0.25947536 -1.33138557 -2.65220992\n",
      " -2.3448989  -0.80051196 -0.05756644 -2.50624854 -0.83338295  0.\n",
      " -1.07083223 -0.76865888 -2.47159407  0.         -2.35592294 -0.96143515\n",
      " -2.75286376 -2.39217395 -2.29275568 -0.79620226 -0.79732003 -0.31744801\n",
      " -0.02659934 -0.18571663  0.         -0.16059059 -1.96911145 -1.36765473\n",
      " -2.14470335]\n",
      "Max values (Numerical features):  [ 2.95351641  3.58678868  6.33922307  2.28226905  2.46000248  1.30165634\n",
      "  1.21784273  3.85445484  2.90109426  6.35499534  2.91821594  3.00405207\n",
      "  3.03690018  2.79185977 24.01161914  3.06667769  1.21322416  0.\n",
      "  2.65525305  1.31174871  2.84476893  0.          2.47026939  2.21785608\n",
      "  1.32437141  1.68666952  2.82252852  3.22163537  3.731711    4.82156446\n",
      " 38.19664899  7.06709147  0.         12.30841506  2.10089239  1.64520971\n",
      "  3.37576873]\n"
     ]
    }
   ],
   "source": [
    "print('Min values (Numerical features): ', df_scaled.min(axis=0))\n",
    "print('Max values (Numerical features): ', df_scaled.max(axis=0))\n"
   ]
  },
  {
   "cell_type": "code",
   "execution_count": 23,
   "metadata": {},
   "outputs": [],
   "source": [
    "# Exportando csv com dados estandardizados\n",
    "df_scaled = pd.DataFrame(df_scaled, columns=num_cols)\n",
    "df_scaled.to_csv('train_cleaned_manual_standarized.csv', index=False)"
   ]
  },
  {
   "cell_type": "markdown",
   "metadata": {},
   "source": [
    "## Normalizando os dados (MinMaxScaler)"
   ]
  },
  {
   "cell_type": "code",
   "execution_count": 24,
   "metadata": {},
   "outputs": [],
   "source": [
    "from sklearn.preprocessing import MinMaxScaler"
   ]
  },
  {
   "cell_type": "code",
   "execution_count": 25,
   "metadata": {},
   "outputs": [],
   "source": [
    "scaler = MinMaxScaler() \n",
    "data_scaled = scaler.fit_transform(df[num_cols])"
   ]
  },
  {
   "cell_type": "code",
   "execution_count": 26,
   "metadata": {},
   "outputs": [
    {
     "name": "stdout",
     "output_type": "stream",
     "text": [
      "means (Numerical features):  [0.23727364 0.42161981 0.24081219 0.51101833 0.50768156 0.68195497\n",
      " 0.58109589 0.14250313 0.26176227 0.03922844 0.31329657 0.468898\n",
      " 0.43570911 0.22283662 0.00239171 0.44971859 0.40720222 0.\n",
      " 0.28738801 0.36947514 0.46490318 0.         0.48815355 0.3024055\n",
      " 0.67517905 0.58648339 0.44821668 0.19816686 0.17604649 0.06177218\n",
      " 0.00069589 0.02560617 0.         0.01287918 0.48381071 0.45393836\n",
      " 0.38849999]\n",
      "std (Numerical features):  [0.25824348 0.16125293 0.11976039 0.21425242 0.20012924 0.24433871\n",
      " 0.34397225 0.22246904 0.25446872 0.15118368 0.23531618 0.17679521\n",
      " 0.18581147 0.27836763 0.0415469  0.17943894 0.48861357 0.\n",
      " 0.26837818 0.48067504 0.18809852 0.         0.20720268 0.31453551\n",
      " 0.24526424 0.24516754 0.19549256 0.2488901  0.22079778 0.19458992\n",
      " 0.02616209 0.13787763 0.         0.08019886 0.24570001 0.33191005\n",
      " 0.18114393]\n"
     ]
    }
   ],
   "source": [
    "print('means (Numerical features): ', data_scaled.mean(axis=0))\n",
    "print('std (Numerical features): ', data_scaled.std(axis=0))"
   ]
  },
  {
   "cell_type": "code",
   "execution_count": 27,
   "metadata": {},
   "outputs": [
    {
     "name": "stdout",
     "output_type": "stream",
     "text": [
      "Min (Numerical features):  [0. 0. 0. 0. 0. 0. 0. 0. 0. 0. 0. 0. 0. 0. 0. 0. 0. 0. 0. 0. 0. 0. 0. 0.\n",
      " 0. 0. 0. 0. 0. 0. 0. 0. 0. 0. 0. 0. 0.]\n",
      "Max (Numerical features):  [1. 1. 1. 1. 1. 1. 1. 1. 1. 1. 1. 1. 1. 1. 1. 1. 1. 0. 1. 1. 1. 0. 1. 1.\n",
      " 1. 1. 1. 1. 1. 1. 1. 1. 0. 1. 1. 1. 1.]\n"
     ]
    }
   ],
   "source": [
    "print('Min (Numerical features): ', data_scaled.min(axis=0))\n",
    "print('Max (Numerical features): ', data_scaled.max(axis=0))\n"
   ]
  },
  {
   "cell_type": "code",
   "execution_count": 28,
   "metadata": {},
   "outputs": [],
   "source": [
    "# Exportando csv com dados normalizados\n",
    "df_scaled = pd.DataFrame(data_scaled, columns=num_cols)\n",
    "df_scaled.to_csv('train_cleaned_manual_normalized.csv', index=False)"
   ]
  },
  {
   "cell_type": "markdown",
   "metadata": {},
   "source": [
    "## RobustScaler"
   ]
  },
  {
   "cell_type": "code",
   "execution_count": 29,
   "metadata": {},
   "outputs": [],
   "source": [
    "from sklearn.preprocessing import RobustScaler"
   ]
  },
  {
   "cell_type": "code",
   "execution_count": 30,
   "metadata": {},
   "outputs": [],
   "source": [
    "scaler = RobustScaler() \n",
    "data_scaled = scaler.fit_transform(df[num_cols])"
   ]
  },
  {
   "cell_type": "code",
   "execution_count": 31,
   "metadata": {},
   "outputs": [
    {
     "name": "stdout",
     "output_type": "stream",
     "text": [
      "means (Numerical features):  [ 8.04577465e-02 -3.21204250e-16  7.67578028e-02  3.30549756e-02\n",
      "  5.38407821e-01 -2.53348515e-02 -2.46871529e-01  6.11925209e-01\n",
      "  6.76581281e-02  1.88296507e+01  1.26750124e-01  1.05628761e-01\n",
      "  1.19447474e-01  4.66662310e-01  2.87004864e-01  3.70738510e-02\n",
      "  4.07202216e-01  0.00000000e+00 -4.25223983e-01  3.69475138e-01\n",
      " -1.40387275e-01  0.00000000e+00  2.08537439e-01 -3.95189003e-01\n",
      "  8.09094040e-17 -2.40549828e-01 -3.31677304e-02  5.29673899e-01\n",
      "  2.32813140e-01  1.14278536e+01  1.60055672e-02  4.22501797e+00\n",
      "  0.00000000e+00  1.67429359e+01  1.07305936e-01 -9.21232877e-02\n",
      "  1.53156253e-01]\n",
      "std (Numerical features):  [  0.90385218   1.01231008   1.0855068    0.64275727   1.00064622\n",
      "   0.63740532   0.55779284   0.95530823   0.59836501  72.56816487\n",
      "   0.72913701   0.81623207   0.70897737   0.58295483   4.98562777\n",
      "   0.73908667   0.48861357   0.           0.53675637   0.48067504\n",
      "   0.75239407   0.           0.72520939   0.62907103   0.61961493\n",
      "   0.73550261   0.8443012    0.66525043   0.79772101  35.99913431\n",
      "   0.60172803  22.74980911   0.         104.25851404   0.90090005\n",
      "   0.66382011   0.8418537 ]\n"
     ]
    }
   ],
   "source": [
    "print('means (Numerical features): ', data_scaled.mean(axis=0))\n",
    "print('std (Numerical features): ', data_scaled.std(axis=0))"
   ]
  },
  {
   "cell_type": "code",
   "execution_count": 32,
   "metadata": {},
   "outputs": [
    {
     "name": "stdout",
     "output_type": "stream",
     "text": [
      "Min (Numerical features):  [-0.75       -2.64683544 -2.10596112 -1.5        -2.         -1.80434783\n",
      " -1.18918919  0.         -0.54785714  0.         -0.84401237 -2.05919003\n",
      " -1.54303279  0.          0.         -1.81526104  0.          0.\n",
      " -1.          0.         -2.          0.         -1.5        -1.\n",
      " -1.70571549 -2.         -1.9689441   0.         -0.40322581  0.\n",
      "  0.          0.          0.          0.         -1.66666667 -1.\n",
      " -1.6523702 ]\n",
      "Max (Numerical features):  [2.75000000e+00 3.63094233e+00 6.95802755e+00 1.50000000e+00\n",
      " 3.00000000e+00 8.04347826e-01 4.32432432e-01 4.29411765e+00\n",
      " 1.80357143e+00 4.80000000e+02 2.25452939e+00 2.55763240e+00\n",
      " 2.27254098e+00 2.09419044e+00 1.20000000e+02 2.30361446e+00\n",
      " 1.00000000e+00 0.00000000e+00 1.00000000e+00 1.00000000e+00\n",
      " 2.00000000e+00 0.00000000e+00 2.00000000e+00 1.00000000e+00\n",
      " 8.20600299e-01 1.00000000e+00 2.34989648e+00 2.67286822e+00\n",
      " 3.20967742e+00 1.85000000e+02 2.30000000e+01 1.65000000e+02\n",
      " 0.00000000e+00 1.30000000e+03 2.00000000e+00 1.00000000e+00\n",
      " 2.99505966e+00]\n"
     ]
    }
   ],
   "source": [
    "print('Min (Numerical features): ', data_scaled.min(axis=0))\n",
    "print('Max (Numerical features): ', data_scaled.max(axis=0))"
   ]
  },
  {
   "cell_type": "code",
   "execution_count": 33,
   "metadata": {},
   "outputs": [],
   "source": [
    "# Exportando csv com dados após RobustScaler\n",
    "df_scaled = pd.DataFrame(data_scaled, columns=num_cols)\n",
    "df_scaled.to_csv('train_cleaned_manual_robust.csv', index=False)"
   ]
  }
 ],
 "metadata": {
  "kernelspec": {
   "display_name": "Python 3",
   "language": "python",
   "name": "python3"
  },
  "language_info": {
   "codemirror_mode": {
    "name": "ipython",
    "version": 3
   },
   "file_extension": ".py",
   "mimetype": "text/x-python",
   "name": "python",
   "nbconvert_exporter": "python",
   "pygments_lexer": "ipython3",
   "version": "3.10.12"
  }
 },
 "nbformat": 4,
 "nbformat_minor": 2
}
